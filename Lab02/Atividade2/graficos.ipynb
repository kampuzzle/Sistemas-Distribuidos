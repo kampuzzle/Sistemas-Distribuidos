{
 "cells": [
  {
   "cell_type": "code",
   "execution_count": 1,
   "metadata": {},
   "outputs": [
    {
     "name": "stdout",
     "output_type": "stream",
     "text": [
      "Requirement already satisfied: flwr==1.3.0 in /home/lorenzo/.local/lib/python3.8/site-packages (1.3.0)\n",
      "Requirement already satisfied: numpy<2.0.0,>=1.21.0 in /home/lorenzo/.local/lib/python3.8/site-packages (from flwr==1.3.0) (1.24.2)\n",
      "Requirement already satisfied: grpcio!=1.52.0,<2.0.0,>=1.43.0 in /home/lorenzo/.local/lib/python3.8/site-packages (from flwr==1.3.0) (1.54.0)\n",
      "Requirement already satisfied: protobuf<4.0.0,>=3.19.0 in /home/lorenzo/.local/lib/python3.8/site-packages (from flwr==1.3.0) (3.19.6)\n",
      "Requirement already satisfied: iterators<0.0.3,>=0.0.2 in /home/lorenzo/.local/lib/python3.8/site-packages (from flwr==1.3.0) (0.0.2)\n"
     ]
    }
   ],
   "source": [
    "import pickle\n",
    "import matplotlib.pyplot as plt\n",
    "!pip install flwr==1.3.0\n",
    "import flwr as fl"
   ]
  },
  {
   "cell_type": "code",
   "execution_count": 9,
   "metadata": {},
   "outputs": [
    {
     "ename": "FileNotFoundError",
     "evalue": "[Errno 2] No such file or directory: 'history_2.pickle'",
     "output_type": "error",
     "traceback": [
      "\u001b[0;31m---------------------------------------------------------------------------\u001b[0m",
      "\u001b[0;31mFileNotFoundError\u001b[0m                         Traceback (most recent call last)",
      "Cell \u001b[0;32mIn [9], line 5\u001b[0m\n\u001b[1;32m      2\u001b[0m histories \u001b[39m=\u001b[39m []\n\u001b[1;32m      4\u001b[0m \u001b[39mfor\u001b[39;00m h \u001b[39min\u001b[39;00m num_rounds:\n\u001b[0;32m----> 5\u001b[0m     \u001b[39mwith\u001b[39;00m \u001b[39mopen\u001b[39;49m(\u001b[39mf\u001b[39;49m\u001b[39m'\u001b[39;49m\u001b[39mhistory_\u001b[39;49m\u001b[39m{\u001b[39;49;00mh\u001b[39m}\u001b[39;49;00m\u001b[39m.pickle\u001b[39;49m\u001b[39m'\u001b[39;49m, \u001b[39m'\u001b[39;49m\u001b[39mrb\u001b[39;49m\u001b[39m'\u001b[39;49m) \u001b[39mas\u001b[39;00m f:\n\u001b[1;32m      6\u001b[0m         histories\u001b[39m.\u001b[39mappend(pickle\u001b[39m.\u001b[39mload(f))\n",
      "\u001b[0;31mFileNotFoundError\u001b[0m: [Errno 2] No such file or directory: 'history_2.pickle'"
     ]
    }
   ],
   "source": [
    "num_rounds = [2,5,10,20,40]\n",
    "histories = []\n",
    "\n",
    "for h in num_rounds:\n",
    "    with open(f'history_{h}.pkl', 'rb') as f:\n",
    "        histories.append(pickle.load(f))\n"
   ]
  },
  {
   "cell_type": "code",
   "execution_count": 4,
   "metadata": {},
   "outputs": [
    {
     "data": {
      "text/plain": []
     },
     "execution_count": 4,
     "metadata": {},
     "output_type": "execute_result"
    }
   ],
   "source": [
    "histories[0]"
   ]
  },
  {
   "cell_type": "code",
   "execution_count": 8,
   "metadata": {},
   "outputs": [
    {
     "data": {
      "text/plain": [
       "[History (loss, distributed):\n",
       " \tround 1: 0.2492528647184372\n",
       " \tround 2: 0.1460609443485737\n",
       " \tround 3: 0.11641479134559632\n",
       " \tround 4: 0.10011230558156967\n",
       " \tround 5: 0.08604622632265091\n",
       " History (metrics, distributed):\n",
       " {'accuracy': [(1, 0.9270999908447266), (2, 0.9556999921798706), (3, 0.9642000019550323), (4, 0.9690000057220459), (5, 0.9728000044822693)]},\n",
       " History (loss, distributed):\n",
       " \tround 1: 0.2489453673362732\n",
       " \tround 2: 0.15570674389600753\n",
       " \tround 3: 0.12181526869535446\n",
       " \tround 4: 0.10478379800915719\n",
       " \tround 5: 0.09037165641784668\n",
       " \tround 6: 0.07802273258566857\n",
       " \tround 7: 0.07197467125952244\n",
       " \tround 8: 0.06970885992050171\n",
       " \tround 9: 0.06082492433488369\n",
       " \tround 10: 0.0608683492988348\n",
       " History (metrics, distributed):\n",
       " {'accuracy': [(1, 0.9313000023365021), (2, 0.9522000014781952), (3, 0.9646000027656555), (4, 0.9700000047683716), (5, 0.9724000036716461), (6, 0.9757000088691712), (7, 0.9783999979496002), (8, 0.9786999881267547), (9, 0.9807000100612641), (10, 0.9803999960422516)]},\n",
       " History (loss, distributed):\n",
       " \tround 1: 0.2184523642063141\n",
       " \tround 2: 0.14837223514914513\n",
       " \tround 3: 0.09470527321100235\n",
       " \tround 4: 0.09620370417833328\n",
       " \tround 5: 0.08342978507280349\n",
       " \tround 6: 0.0677111443132162\n",
       " \tround 7: 0.06478108540177345\n",
       " \tround 8: 0.0626724936068058\n",
       " \tround 9: 0.06417050398886204\n",
       " \tround 10: 0.05538574047386646\n",
       " \tround 11: 0.057603069394826886\n",
       " \tround 12: 0.05279711857438087\n",
       " \tround 13: 0.0509549543261528\n",
       " \tround 14: 0.048939301446080205\n",
       " \tround 15: 0.04228556882590055\n",
       " History (metrics, distributed):\n",
       " {'accuracy': [(1, 0.9381999850273133), (2, 0.9533999860286713), (3, 0.9728000104427338), (4, 0.9699999988079071), (5, 0.9731000065803528), (6, 0.977999997138977), (7, 0.9811999917030334), (8, 0.9787000060081482), (9, 0.9796999990940094), (10, 0.982399994134903), (11, 0.9818000078201294), (12, 0.9821999967098236), (13, 0.9822000026702881), (14, 0.984799998998642), (15, 0.9854000091552735)]},\n",
       " History (loss, distributed):\n",
       " \tround 1: 0.2380293145775795\n",
       " \tround 2: 0.14550158083438874\n",
       " \tround 3: 0.11405147686600685\n",
       " \tround 4: 0.10117585137486458\n",
       " \tround 5: 0.08047343716025353\n",
       " \tround 6: 0.07808063253760338\n",
       " \tround 7: 0.07215462960302829\n",
       " \tround 8: 0.06793988347053528\n",
       " \tround 9: 0.05923569798469543\n",
       " \tround 10: 0.05550084337592125\n",
       " \tround 11: 0.05080665983259678\n",
       " \tround 12: 0.05125901028513909\n",
       " \tround 13: 0.04991319067776203\n",
       " \tround 14: 0.04806024804711342\n",
       " \tround 15: 0.05217910371720791\n",
       " \tround 16: 0.04958280064165592\n",
       " \tround 17: 0.04100986234843731\n",
       " \tround 18: 0.04319415371865034\n",
       " \tround 19: 0.050693145021796227\n",
       " \tround 20: 0.040817121230065825\n",
       " History (metrics, distributed):\n",
       " {'accuracy': [(1, 0.9358000040054322), (2, 0.95799999833107), (3, 0.9664000153541565), (4, 0.9703999996185303), (5, 0.9757999897003173), (6, 0.9759999930858612), (7, 0.9768999993801117), (8, 0.9787999987602234), (9, 0.9813999891281128), (10, 0.9818000018596649), (11, 0.9830999970436096), (12, 0.9830999970436096), (13, 0.9824000000953674), (14, 0.9837999880313874), (15, 0.9829000055789947), (16, 0.9832000017166138), (17, 0.9861000001430511), (18, 0.9849999845027924), (19, 0.9835999965667724), (20, 0.9861000001430511)]}]"
      ]
     },
     "execution_count": 8,
     "metadata": {},
     "output_type": "execute_result"
    }
   ],
   "source": [
    "history = pickle.load(open('history.pickle', 'rb'))\n",
    "history"
   ]
  },
  {
   "cell_type": "code",
   "execution_count": 12,
   "metadata": {},
   "outputs": [
    {
     "ename": "KeyError",
     "evalue": "'accuracy'",
     "output_type": "error",
     "traceback": [
      "\u001b[0;31m---------------------------------------------------------------------------\u001b[0m",
      "\u001b[0;31mKeyError\u001b[0m                                  Traceback (most recent call last)",
      "Cell \u001b[0;32mIn [12], line 3\u001b[0m\n\u001b[1;32m      1\u001b[0m \u001b[39m# plot individual histories\u001b[39;00m\n\u001b[1;32m      2\u001b[0m \u001b[39mfor\u001b[39;00m i, history \u001b[39min\u001b[39;00m \u001b[39menumerate\u001b[39m(histories):\n\u001b[0;32m----> 3\u001b[0m     plt\u001b[39m.\u001b[39mplot(\u001b[39m*\u001b[39m\u001b[39mzip\u001b[39m(\u001b[39m*\u001b[39mhistory\u001b[39m.\u001b[39;49mmetrics_distributed[\u001b[39m'\u001b[39;49m\u001b[39maccuracy\u001b[39;49m\u001b[39m'\u001b[39;49m]), label\u001b[39m=\u001b[39m\u001b[39mstr\u001b[39m(num_rounds[i])\u001b[39m+\u001b[39m\u001b[39m\"\u001b[39m\u001b[39m rounds\u001b[39m\u001b[39m\"\u001b[39m)\n",
      "\u001b[0;31mKeyError\u001b[0m: 'accuracy'"
     ]
    }
   ],
   "source": [
    "# plot individual histories\n",
    "for i, history in enumerate(histories):\n",
    "    plt.plot(*zip(*history.metrics_distributed['accuracy']), label=str(num_rounds[i])+\" rounds\")\n",
    "\n"
   ]
  }
 ],
 "metadata": {
  "kernelspec": {
   "display_name": "Python 3",
   "language": "python",
   "name": "python3"
  },
  "language_info": {
   "codemirror_mode": {
    "name": "ipython",
    "version": 3
   },
   "file_extension": ".py",
   "mimetype": "text/x-python",
   "name": "python",
   "nbconvert_exporter": "python",
   "pygments_lexer": "ipython3",
   "version": "3.8.10 (default, Jun 22 2022, 20:18:18) \n[GCC 9.4.0]"
  },
  "orig_nbformat": 4,
  "vscode": {
   "interpreter": {
    "hash": "916dbcbb3f70747c44a77c7bcd40155683ae19c65e1c03b4aa3499c5328201f1"
   }
  }
 },
 "nbformat": 4,
 "nbformat_minor": 2
}
